{
 "cells": [
  {
   "cell_type": "code",
   "execution_count": 186,
   "metadata": {},
   "outputs": [],
   "source": [
    "import matplotlib.pyplot as plt\n",
    "import pandas as pd\n",
    "import numpy as np"
   ]
  },
  {
   "cell_type": "code",
   "execution_count": 187,
   "metadata": {},
   "outputs": [
    {
     "data": {
      "text/html": [
       "<div>\n",
       "<style scoped>\n",
       "    .dataframe tbody tr th:only-of-type {\n",
       "        vertical-align: middle;\n",
       "    }\n",
       "\n",
       "    .dataframe tbody tr th {\n",
       "        vertical-align: top;\n",
       "    }\n",
       "\n",
       "    .dataframe thead th {\n",
       "        text-align: right;\n",
       "    }\n",
       "</style>\n",
       "<table border=\"1\" class=\"dataframe\">\n",
       "  <thead>\n",
       "    <tr style=\"text-align: right;\">\n",
       "      <th></th>\n",
       "      <th>video_id</th>\n",
       "      <th>trending_date</th>\n",
       "      <th>title</th>\n",
       "      <th>channel_title</th>\n",
       "      <th>category_id</th>\n",
       "      <th>publish_time</th>\n",
       "      <th>tags</th>\n",
       "      <th>views</th>\n",
       "      <th>likes</th>\n",
       "      <th>dislikes</th>\n",
       "      <th>comment_count</th>\n",
       "      <th>thumbnail_link</th>\n",
       "      <th>comments_disabled</th>\n",
       "      <th>ratings_disabled</th>\n",
       "      <th>video_error_or_removed</th>\n",
       "      <th>description</th>\n",
       "    </tr>\n",
       "  </thead>\n",
       "  <tbody>\n",
       "    <tr>\n",
       "      <th>40948</th>\n",
       "      <td>ooyjaVdt-jA</td>\n",
       "      <td>18.14.06</td>\n",
       "      <td>Official Call of Duty®: Black Ops 4 — Multipla...</td>\n",
       "      <td>Call of Duty</td>\n",
       "      <td>20</td>\n",
       "      <td>2018-05-17T17:09:38.000Z</td>\n",
       "      <td>call of duty|\"cod\"|\"activision\"|\"Black Ops 4\"</td>\n",
       "      <td>10306119</td>\n",
       "      <td>357079</td>\n",
       "      <td>212976</td>\n",
       "      <td>144795</td>\n",
       "      <td>https://i.ytimg.com/vi/ooyjaVdt-jA/default.jpg</td>\n",
       "      <td>False</td>\n",
       "      <td>False</td>\n",
       "      <td>False</td>\n",
       "      <td>Call of Duty: Black Ops 4 Multiplayer raises t...</td>\n",
       "    </tr>\n",
       "  </tbody>\n",
       "</table>\n",
       "</div>"
      ],
      "text/plain": [
       "          video_id trending_date  \\\n",
       "40948  ooyjaVdt-jA      18.14.06   \n",
       "\n",
       "                                                   title channel_title  \\\n",
       "40948  Official Call of Duty®: Black Ops 4 — Multipla...  Call of Duty   \n",
       "\n",
       "       category_id              publish_time  \\\n",
       "40948           20  2018-05-17T17:09:38.000Z   \n",
       "\n",
       "                                                tags     views   likes  \\\n",
       "40948  call of duty|\"cod\"|\"activision\"|\"Black Ops 4\"  10306119  357079   \n",
       "\n",
       "       dislikes  comment_count  \\\n",
       "40948    212976         144795   \n",
       "\n",
       "                                       thumbnail_link  comments_disabled  \\\n",
       "40948  https://i.ytimg.com/vi/ooyjaVdt-jA/default.jpg              False   \n",
       "\n",
       "       ratings_disabled  video_error_or_removed  \\\n",
       "40948             False                   False   \n",
       "\n",
       "                                             description  \n",
       "40948  Call of Duty: Black Ops 4 Multiplayer raises t...  "
      ]
     },
     "execution_count": 187,
     "metadata": {},
     "output_type": "execute_result"
    }
   ],
   "source": [
    "data = pd.read_csv(r'USvideos.csv')\n",
    "data.tail(1)"
   ]
  },
  {
   "cell_type": "code",
   "execution_count": 188,
   "metadata": {},
   "outputs": [
    {
     "data": {
      "text/plain": [
       "Index(['video_id', 'trending_date', 'title', 'channel_title', 'category_id',\n",
       "       'publish_time', 'tags', 'views', 'likes', 'dislikes', 'comment_count',\n",
       "       'thumbnail_link', 'comments_disabled', 'ratings_disabled',\n",
       "       'video_error_or_removed', 'description'],\n",
       "      dtype='object')"
      ]
     },
     "execution_count": 188,
     "metadata": {},
     "output_type": "execute_result"
    }
   ],
   "source": [
    "data.columns"
   ]
  },
  {
   "cell_type": "code",
   "execution_count": 189,
   "metadata": {},
   "outputs": [
    {
     "name": "stdout",
     "output_type": "stream",
     "text": [
      "(40949, 16)\n",
      "(40122, 16)\n",
      "(39957, 16)\n"
     ]
    }
   ],
   "source": [
    "print(data.shape)\n",
    "print(data[data['views'] > 10000].shape)\n",
    "print(data[(data['views'] > 10000 ) & ((data['publish_time'].str.contains('2017')) | (data['publish_time'].str.contains('2018'))) ].shape)"
   ]
  },
  {
   "cell_type": "code",
   "execution_count": 190,
   "metadata": {
    "scrolled": false
   },
   "outputs": [],
   "source": [
    "data = data[(data['views'] > 10000 ) & ((data['publish_time'].str.contains('2017')) | (data['publish_time'].str.contains('2018'))) ]"
   ]
  },
  {
   "cell_type": "code",
   "execution_count": 191,
   "metadata": {},
   "outputs": [],
   "source": [
    "# data.to_csv('new.csv')"
   ]
  },
  {
   "cell_type": "code",
   "execution_count": 192,
   "metadata": {},
   "outputs": [],
   "source": [
    "a = (( data['likes'] + data['dislikes'] ) / data['views']).values.tolist()"
   ]
  },
  {
   "cell_type": "code",
   "execution_count": 193,
   "metadata": {
    "scrolled": true
   },
   "outputs": [
    {
     "data": {
      "image/png": "[encoded data removed]",
      "text/plain": [
       "<Figure size 432x288 with 1 Axes>"
      ]
     },
     "metadata": {},
     "output_type": "display_data"
    }
   ],
   "source": [
    "plt.plot(a)\n",
    "plt.show()"
   ]
  },
  {
   "cell_type": "code",
   "execution_count": 194,
   "metadata": {},
   "outputs": [
    {
     "name": "stdout",
     "output_type": "stream",
     "text": [
      "MAX：225211923\n",
      "MIN：10001\n"
     ]
    }
   ],
   "source": [
    "print(\"MAX：\" + str(data['views'].values.max()))\n",
    "print(\"MIN：\" + str(data['views'].values.min()))"
   ]
  },
  {
   "cell_type": "code",
   "execution_count": 195,
   "metadata": {},
   "outputs": [],
   "source": [
    "# data[data['views'] <= 2000000 ]\n",
    "L = []\n",
    "D = []\n",
    "C = []\n",
    "V = []\n",
    "for num in range(5000000,225211923,5000000):\n",
    "    L.append(data[ data['views'] <= num ]['likes'].values.sum())\n",
    "    D.append(data[ data['views'] <= num ]['dislikes'].values.sum())\n",
    "    C.append(data[ data['views'] <= num ]['comment_count'].values.sum())\n",
    "    V.append(num)\n",
    "# print(L)\n",
    "# print(D)\n",
    "# print(C)\n",
    "# print(V)"
   ]
  },
  {
   "cell_type": "code",
   "execution_count": 196,
   "metadata": {},
   "outputs": [
    {
     "data": {
      "image/png": "[encoded data removed]",
      "text/plain": [
       "<Figure size 432x288 with 1 Axes>"
      ]
     },
     "metadata": {},
     "output_type": "display_data"
    }
   ],
   "source": [
    "# plt.plot(V, L, V, D, V, C)\n",
    "plt.plot(V, L, \"r-\", label=\"L\")\n",
    "plt.plot(V, D, \"g-\", label=\"D\")\n",
    "plt.plot(V, C, \"b-\", label=\"C\")\n",
    "plt.title(\":D\")\n",
    "plt.xlabel(\"views\")\n",
    "plt.ylabel(\":D\")\n",
    "plt.grid(True)\n",
    "plt.legend()\n",
    "plt.show()"
   ]
  },
  {
   "cell_type": "code",
   "execution_count": 197,
   "metadata": {},
   "outputs": [],
   "source": [
    "# type(data['description'].tolist())\n",
    "a = []\n",
    "b = []\n",
    "\n",
    "data_list = data.sort_values(\"views\")['description'].tolist()\n",
    "a = data.sort_values(\"views\")['views'].tolist()\n",
    "for D in data_list:\n",
    "    try:\n",
    "#         print(D.find(\"http\") != -1)\n",
    "        b.append(1 if D.find(\"http\") != -1 else -1 )\n",
    "    except:\n",
    "#         print(False)\n",
    "        b.append(-1)\n",
    "        \n",
    "# plt.plot(a, b)\n",
    "# plt.title(\":D\")\n",
    "# plt.xlabel(\"views\")\n",
    "# plt.ylabel(\":D\")\n",
    "# plt.grid(True)\n",
    "# plt.legend()\n",
    "# plt.show()  \n",
    "\n",
    "# plt.bar(a, b)\n",
    "# plt.yticks()\n",
    "\n",
    "# plt.ylabel(\"Number of People\")\n",
    "# plt.xlabel(\"Position\")\n",
    "# plt.title(\"NBA Golden State Warriors\")\n",
    "# plt.show()"
   ]
  },
  {
   "cell_type": "code",
   "execution_count": null,
   "metadata": {},
   "outputs": [
    {
     "name": "stderr",
     "output_type": "stream",
     "text": [
      "C:\\Users\\jasonsu\\Anaconda3\\envs\\tensorflow\\lib\\site-packages\\ipykernel_launcher.py:4: SettingWithCopyWarning: \n",
      "A value is trying to be set on a copy of a slice from a DataFrame\n",
      "\n",
      "See the caveats in the documentation: http://pandas.pydata.org/pandas-docs/stable/indexing.html#indexing-view-versus-copy\n",
      "  after removing the cwd from sys.path.\n"
     ]
    }
   ],
   "source": [
    "# grouped = data['views'].groupby(data['category_id'])\n",
    "# grouped.mean()\n",
    "for t in range(0,10949):\n",
    "    data['trending_date'][t] = data['trending_date'][-2:]\n",
    "# print(data['trending_date'])\n",
    "# data['trending_date'] = data.iloc[:]['trending_date'][-2:]\n",
    "data\n",
    "# data.iloc[:]['trending_date'] = data.iloc[:]['trending_date'].values[:][-2:]\n",
    "# data\n",
    "# grouped = data['views'].groupby(data['category_id'])\n",
    "# grouped.mean()"
   ]
  },
  {
   "cell_type": "code",
   "execution_count": null,
   "metadata": {},
   "outputs": [],
   "source": []
  }
 ],
 "metadata": {
  "kernelspec": {
   "display_name": "Python 3",
   "language": "python",
   "name": "python3"
  },
  "language_info": {
   "codemirror_mode": {
    "name": "ipython",
    "version": 3
   },
   "file_extension": ".py",
   "mimetype": "text/x-python",
   "name": "python",
   "nbconvert_exporter": "python",
   "pygments_lexer": "ipython3",
   "version": "3.5.5"
  }
 },
 "nbformat": 4,
 "nbformat_minor": 2
}
