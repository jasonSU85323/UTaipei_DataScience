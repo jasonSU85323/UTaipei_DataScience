{
 "cells": [
  {
   "cell_type": "code",
   "execution_count": 8,
   "metadata": {},
   "outputs": [],
   "source": [
    "import requests\n",
    "from bs4 import BeautifulSoup \n",
    "import csv"
   ]
  },
  {
   "cell_type": "code",
   "execution_count": 9,
   "metadata": {},
   "outputs": [
    {
     "name": "stdout",
     "output_type": "stream",
     "text": [
      "中式點心[ 3 ]： ['https://icook.tw/recipes/search?page=1&q=%E4%B8%AD%E5%BC%8F%E9%BB%9E%E5%BF%83', 'https://icook.tw/recipes/search?page=2&q=%E4%B8%AD%E5%BC%8F%E9%BB%9E%E5%BF%83', 'https://icook.tw/recipes/search?page=3&q=%E4%B8%AD%E5%BC%8F%E9%BB%9E%E5%BF%83']\n",
      "西式點心[ 3 ]： ['https://icook.tw/recipes/search?page=1&q=%E8%A5%BF%E5%BC%8F%E9%BB%9E%E5%BF%83', 'https://icook.tw/recipes/search?page=2&q=%E8%A5%BF%E5%BC%8F%E9%BB%9E%E5%BF%83', 'https://icook.tw/recipes/search?page=3&q=%E8%A5%BF%E5%BC%8F%E9%BB%9E%E5%BF%83']\n"
     ]
    }
   ],
   "source": [
    "Chinese_search_url = []\n",
    "Western_search_url = []\n",
    "for a in range(1,4):\n",
    "    Chinese_search_url.append(\n",
    "        requests.get(\"https://icook.tw/recipes/search\", {'page':a, 'q':\"中式點心\"}).url\n",
    "    )\n",
    "for a in range(1,4):\n",
    "    Western_search_url.append(\n",
    "        requests.get(\"https://icook.tw/recipes/search\", {'page':a, 'q':\"西式點心\"}).url\n",
    "    )\n",
    "\n",
    "print(\"中式點心[\",len(Chinese_search_url),\"]：\",Chinese_search_url)\n",
    "print(\"西式點心[\",len(Western_search_url),\"]：\",Western_search_url)"
   ]
  },
  {
   "cell_type": "code",
   "execution_count": 10,
   "metadata": {},
   "outputs": [],
   "source": [
    "Chinese_content = []\n",
    "Western_content = []\n",
    "\n",
    "headers = {\n",
    "    'User-Agent':'Mozilla/5.0 (Windows; U; Windows NT 6.1; en-US; rv:1.9.1.6) Gecko/20091201 Firefox/3.5.6'\n",
    "}\n",
    "\n",
    "for url in Chinese_search_url:\n",
    "    urlT = requests.get(url, headers=headers)\n",
    "#     print(urlT.status_code)\n",
    "    urlT.encoding = \"utf-8\"\n",
    "    Chinese_content.append(BeautifulSoup(urlT.text, \"lxml\"))\n",
    "    \n",
    "for url in Western_search_url:\n",
    "    urlT = requests.get(url, headers=headers)\n",
    "    urlT.encoding = \"utf-8\"\n",
    "    Western_content.append(BeautifulSoup(urlT.text, \"lxml\"))"
   ]
  },
  {
   "cell_type": "code",
   "execution_count": 11,
   "metadata": {},
   "outputs": [],
   "source": [
    "Chinese_url_list = []\n",
    "Western_url_list = []\n",
    "\n",
    "for T in Chinese_content:\n",
    "    class_set = T.find_all(class_=\"browse-recipe-content\")\n",
    "    for C in class_set:\n",
    "        Chinese_url_list.append(\"https://icook.tw\" + C.find(\"a\").get(\"href\"))\n",
    "for T in Western_content:\n",
    "    class_set = T.find_all(class_=\"browse-recipe-content\")\n",
    "    for C in class_set:\n",
    "        Western_url_list.append(\"https://icook.tw\" + C.find(\"a\").get(\"href\"))\n",
    "\n",
    "# print(Chinese_url_list)\n",
    "# print(len(Western_url_list))"
   ]
  },
  {
   "cell_type": "code",
   "execution_count": 12,
   "metadata": {},
   "outputs": [],
   "source": [
    "Chinese_text = []\n",
    "Western_text = []\n",
    "Chinese_title = []\n",
    "Western_title = []\n",
    "for url in Chinese_url_list:\n",
    "    r = requests.get(url, headers=headers)\n",
    "    b = BeautifulSoup(r.text, \"lxml\")\n",
    "    t = []\n",
    "    for f in b.find_all(class_=\"step-instruction-content\"):\n",
    "        t.append(f.text)\n",
    "    Chinese_text.append(\"\".join(t))\n",
    "    Chinese_title.append(b.find(class_=\"title\").text.strip().lstrip().rstrip())\n",
    "#     print(\"---\" + str(b.find(class_=\"title\").text).strip().lstrip().rstrip() + \"---\")\n",
    "for url in Western_url_list:\n",
    "    r = requests.get(url, headers=headers)\n",
    "    b = BeautifulSoup(r.text, \"lxml\")\n",
    "    t = []\n",
    "    for f in b.find_all(class_=\"step-instruction-content\"):\n",
    "        t.append(f.text)\n",
    "    Western_text.append(t)\n",
    "    Western_title.append(b.find(class_=\"title\").text.strip().lstrip().rstrip())\n",
    "    \n",
    "# print(Chinese_text[0])\n",
    "# print(Chinese_title[0])"
   ]
  },
  {
   "cell_type": "code",
   "execution_count": 13,
   "metadata": {},
   "outputs": [
    {
     "name": "stdout",
     "output_type": "stream",
     "text": [
      "OK\n"
     ]
    }
   ],
   "source": [
    "with open('output.csv', 'w', newline='',encoding='utf-8-sig') as csvfile:\n",
    "    writer = csv.writer(csvfile)\n",
    "    writer.writerow(['class', 'name', 'content'])\n",
    "    for num in range(0,len(Chinese_title)):\n",
    "        # 建立 CSV 檔寫入器\n",
    "        writer = csv.writer(csvfile)\n",
    "        # 寫入一列資料\n",
    "        writer.writerow(['中式', Chinese_title[num], Chinese_text[num]])\n",
    "    for num in range(0,len(Western_title)):\n",
    "        # 建立 CSV 檔寫入器\n",
    "        writer = csv.writer(csvfile)\n",
    "        # 寫入一列資料\n",
    "        writer.writerow(['西式', Chinese_title[num], Chinese_text[num]])\n",
    "print(\"OK\")"
   ]
  },
  {
   "cell_type": "code",
   "execution_count": null,
   "metadata": {},
   "outputs": [],
   "source": []
  },
  {
   "cell_type": "code",
   "execution_count": null,
   "metadata": {},
   "outputs": [],
   "source": []
  }
 ],
 "metadata": {
  "kernelspec": {
   "display_name": "Python 3",
   "language": "python",
   "name": "python3"
  },
  "language_info": {
   "codemirror_mode": {
    "name": "ipython",
    "version": 3
   },
   "file_extension": ".py",
   "mimetype": "text/x-python",
   "name": "python",
   "nbconvert_exporter": "python",
   "pygments_lexer": "ipython3",
   "version": "3.7.1"
  }
 },
 "nbformat": 4,
 "nbformat_minor": 2
}
